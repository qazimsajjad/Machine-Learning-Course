{
  "cells": [
    {
      "cell_type": "code",
      "execution_count": 1,
      "metadata": {
        "id": "Z4Pjf8K_dQfL"
      },
      "outputs": [],
      "source": [
        "import numpy as np\n",
        "import pandas as pd\n",
        "import sklearn\n",
        "import matplotlib.pyplot as plt\n",
        "from sklearn.model_selection import train_test_split\n",
        "from sklearn.datasets import make_classification\n"
      ]
    },
    {
      "cell_type": "markdown",
      "metadata": {
        "id": "f1qLfR84ipqG"
      },
      "source": [
        "classification dataset"
      ]
    },
    {
      "cell_type": "code",
      "execution_count": 2,
      "metadata": {
        "id": "xSC98UgVe1J8"
      },
      "outputs": [],
      "source": [
        "X, y = make_classification(\n",
        "    n_samples=400,\n",
        "    n_features=250,\n",
        "    n_informative=2,\n",
        "    random_state=42\n",
        ")"
      ]
    },
    {
      "cell_type": "markdown",
      "metadata": {
        "id": "Z4thnzFFkAVM"
      },
      "source": [
        "dataframe of data"
      ]
    },
    {
      "cell_type": "code",
      "execution_count": 3,
      "metadata": {
        "colab": {
          "base_uri": "https://localhost:8080/",
          "height": 255
        },
        "id": "-vOHOI-zixf0",
        "outputId": "b607ccfd-a537-4b7e-8b4a-26d3ee15ac0b"
      },
      "outputs": [
        {
          "data": {
            "text/html": [
              "<div>\n",
              "<style scoped>\n",
              "    .dataframe tbody tr th:only-of-type {\n",
              "        vertical-align: middle;\n",
              "    }\n",
              "\n",
              "    .dataframe tbody tr th {\n",
              "        vertical-align: top;\n",
              "    }\n",
              "\n",
              "    .dataframe thead th {\n",
              "        text-align: right;\n",
              "    }\n",
              "</style>\n",
              "<table border=\"1\" class=\"dataframe\">\n",
              "  <thead>\n",
              "    <tr style=\"text-align: right;\">\n",
              "      <th></th>\n",
              "      <th>Feature_1</th>\n",
              "      <th>Feature_2</th>\n",
              "      <th>Feature_3</th>\n",
              "      <th>Feature_4</th>\n",
              "      <th>Feature_5</th>\n",
              "      <th>Feature_6</th>\n",
              "      <th>Feature_7</th>\n",
              "      <th>Feature_8</th>\n",
              "      <th>Feature_9</th>\n",
              "      <th>Feature_10</th>\n",
              "      <th>...</th>\n",
              "      <th>Feature_242</th>\n",
              "      <th>Feature_243</th>\n",
              "      <th>Feature_244</th>\n",
              "      <th>Feature_245</th>\n",
              "      <th>Feature_246</th>\n",
              "      <th>Feature_247</th>\n",
              "      <th>Feature_248</th>\n",
              "      <th>Feature_249</th>\n",
              "      <th>Feature_250</th>\n",
              "      <th>Target</th>\n",
              "    </tr>\n",
              "  </thead>\n",
              "  <tbody>\n",
              "    <tr>\n",
              "      <th>0</th>\n",
              "      <td>-0.168217</td>\n",
              "      <td>0.481454</td>\n",
              "      <td>0.769205</td>\n",
              "      <td>-0.968667</td>\n",
              "      <td>1.481484</td>\n",
              "      <td>-0.802184</td>\n",
              "      <td>-0.237991</td>\n",
              "      <td>1.018925</td>\n",
              "      <td>-0.274833</td>\n",
              "      <td>-0.728497</td>\n",
              "      <td>...</td>\n",
              "      <td>0.848440</td>\n",
              "      <td>0.329849</td>\n",
              "      <td>-0.274129</td>\n",
              "      <td>-2.050531</td>\n",
              "      <td>-0.218681</td>\n",
              "      <td>0.795249</td>\n",
              "      <td>-0.107999</td>\n",
              "      <td>-0.845000</td>\n",
              "      <td>-0.168689</td>\n",
              "      <td>1</td>\n",
              "    </tr>\n",
              "    <tr>\n",
              "      <th>1</th>\n",
              "      <td>-0.040793</td>\n",
              "      <td>-2.000383</td>\n",
              "      <td>0.634799</td>\n",
              "      <td>0.095545</td>\n",
              "      <td>-0.051278</td>\n",
              "      <td>0.307810</td>\n",
              "      <td>-0.335843</td>\n",
              "      <td>1.147110</td>\n",
              "      <td>-0.394407</td>\n",
              "      <td>-1.321053</td>\n",
              "      <td>...</td>\n",
              "      <td>-0.416193</td>\n",
              "      <td>-0.434358</td>\n",
              "      <td>-0.235093</td>\n",
              "      <td>-0.258765</td>\n",
              "      <td>0.633243</td>\n",
              "      <td>-0.201080</td>\n",
              "      <td>0.303094</td>\n",
              "      <td>1.370079</td>\n",
              "      <td>-0.635089</td>\n",
              "      <td>0</td>\n",
              "    </tr>\n",
              "    <tr>\n",
              "      <th>2</th>\n",
              "      <td>-0.370698</td>\n",
              "      <td>2.342857</td>\n",
              "      <td>-1.139286</td>\n",
              "      <td>1.085672</td>\n",
              "      <td>-2.550026</td>\n",
              "      <td>0.908223</td>\n",
              "      <td>-0.194080</td>\n",
              "      <td>0.593337</td>\n",
              "      <td>-0.182242</td>\n",
              "      <td>-2.225935</td>\n",
              "      <td>...</td>\n",
              "      <td>1.475454</td>\n",
              "      <td>0.430014</td>\n",
              "      <td>1.458885</td>\n",
              "      <td>-0.608239</td>\n",
              "      <td>0.187069</td>\n",
              "      <td>0.012654</td>\n",
              "      <td>-0.185266</td>\n",
              "      <td>-0.584410</td>\n",
              "      <td>0.137758</td>\n",
              "      <td>0</td>\n",
              "    </tr>\n",
              "    <tr>\n",
              "      <th>3</th>\n",
              "      <td>-0.208223</td>\n",
              "      <td>-0.803409</td>\n",
              "      <td>-1.357823</td>\n",
              "      <td>-0.319096</td>\n",
              "      <td>0.390484</td>\n",
              "      <td>-0.678704</td>\n",
              "      <td>-1.155496</td>\n",
              "      <td>-0.947423</td>\n",
              "      <td>0.201048</td>\n",
              "      <td>-0.420934</td>\n",
              "      <td>...</td>\n",
              "      <td>-0.064809</td>\n",
              "      <td>-0.083181</td>\n",
              "      <td>-0.304065</td>\n",
              "      <td>1.153328</td>\n",
              "      <td>-0.686062</td>\n",
              "      <td>-0.359693</td>\n",
              "      <td>-0.052554</td>\n",
              "      <td>1.141455</td>\n",
              "      <td>-0.478692</td>\n",
              "      <td>0</td>\n",
              "    </tr>\n",
              "    <tr>\n",
              "      <th>4</th>\n",
              "      <td>-0.850677</td>\n",
              "      <td>-1.030512</td>\n",
              "      <td>-0.606379</td>\n",
              "      <td>0.321016</td>\n",
              "      <td>-0.777153</td>\n",
              "      <td>-0.925627</td>\n",
              "      <td>0.138227</td>\n",
              "      <td>0.790409</td>\n",
              "      <td>0.356066</td>\n",
              "      <td>-0.898413</td>\n",
              "      <td>...</td>\n",
              "      <td>-0.372120</td>\n",
              "      <td>-0.652259</td>\n",
              "      <td>-0.605035</td>\n",
              "      <td>0.507556</td>\n",
              "      <td>-0.164263</td>\n",
              "      <td>-0.233155</td>\n",
              "      <td>0.312346</td>\n",
              "      <td>-0.286987</td>\n",
              "      <td>0.442295</td>\n",
              "      <td>1</td>\n",
              "    </tr>\n",
              "  </tbody>\n",
              "</table>\n",
              "<p>5 rows × 251 columns</p>\n",
              "</div>"
            ],
            "text/plain": [
              "   Feature_1  Feature_2  Feature_3  Feature_4  Feature_5  Feature_6  \\\n",
              "0  -0.168217   0.481454   0.769205  -0.968667   1.481484  -0.802184   \n",
              "1  -0.040793  -2.000383   0.634799   0.095545  -0.051278   0.307810   \n",
              "2  -0.370698   2.342857  -1.139286   1.085672  -2.550026   0.908223   \n",
              "3  -0.208223  -0.803409  -1.357823  -0.319096   0.390484  -0.678704   \n",
              "4  -0.850677  -1.030512  -0.606379   0.321016  -0.777153  -0.925627   \n",
              "\n",
              "   Feature_7  Feature_8  Feature_9  Feature_10  ...  Feature_242  Feature_243  \\\n",
              "0  -0.237991   1.018925  -0.274833   -0.728497  ...     0.848440     0.329849   \n",
              "1  -0.335843   1.147110  -0.394407   -1.321053  ...    -0.416193    -0.434358   \n",
              "2  -0.194080   0.593337  -0.182242   -2.225935  ...     1.475454     0.430014   \n",
              "3  -1.155496  -0.947423   0.201048   -0.420934  ...    -0.064809    -0.083181   \n",
              "4   0.138227   0.790409   0.356066   -0.898413  ...    -0.372120    -0.652259   \n",
              "\n",
              "   Feature_244  Feature_245  Feature_246  Feature_247  Feature_248  \\\n",
              "0    -0.274129    -2.050531    -0.218681     0.795249    -0.107999   \n",
              "1    -0.235093    -0.258765     0.633243    -0.201080     0.303094   \n",
              "2     1.458885    -0.608239     0.187069     0.012654    -0.185266   \n",
              "3    -0.304065     1.153328    -0.686062    -0.359693    -0.052554   \n",
              "4    -0.605035     0.507556    -0.164263    -0.233155     0.312346   \n",
              "\n",
              "   Feature_249  Feature_250  Target  \n",
              "0    -0.845000    -0.168689       1  \n",
              "1     1.370079    -0.635089       0  \n",
              "2    -0.584410     0.137758       0  \n",
              "3     1.141455    -0.478692       0  \n",
              "4    -0.286987     0.442295       1  \n",
              "\n",
              "[5 rows x 251 columns]"
            ]
          },
          "execution_count": 3,
          "metadata": {},
          "output_type": "execute_result"
        }
      ],
      "source": [
        "df = pd.DataFrame(X, columns=[f'Feature_{i+1}' for i in range(X.shape[1])])\n",
        "df['Target'] = y\n",
        "df.head()"
      ]
    },
    {
      "cell_type": "markdown",
      "metadata": {
        "id": "LfmDAsqjkDeD"
      },
      "source": [
        "spliting data"
      ]
    },
    {
      "cell_type": "code",
      "execution_count": 4,
      "metadata": {
        "id": "qpz73WxQjZKT"
      },
      "outputs": [],
      "source": [
        "X_train, X_test, y_train, y_test = train_test_split(X, y, test_size=0.2, random_state=42)\n",
        "\n",
        "\n",
        "    #  just transpose for consistency\n",
        "X_train = X_train.T\n",
        "X_test = X_test.T\n",
        "\n",
        "\n",
        "    # Reshaping labels to be consistent (1 row, multiple samples)\n",
        "y_train = y_train.reshape(1, -1)\n",
        "y_test = y_test.reshape(1, -1)\n"
      ]
    },
    {
      "cell_type": "markdown",
      "metadata": {
        "id": "tBCf1-G6kfj5"
      },
      "source": [
        "sigmoid function"
      ]
    },
    {
      "cell_type": "code",
      "execution_count": 5,
      "metadata": {
        "id": "AbXrgLapkMfp"
      },
      "outputs": [],
      "source": [
        "def sigmoid(z):\n",
        "    return 1 / (1 + np.exp(-z))"
      ]
    },
    {
      "cell_type": "markdown",
      "metadata": {
        "id": "Zf8pmRYlkiy3"
      },
      "source": [
        "cost function"
      ]
    },
    {
      "cell_type": "code",
      "execution_count": 6,
      "metadata": {
        "id": "4DxpgFNikPOX"
      },
      "outputs": [],
      "source": [
        "def compute_cost(y, y_pred):\n",
        "    m = y.shape[1]\n",
        "    cost = -(1/m) * np.sum(y * np.log(y_pred) + (1 - y) * np.log(1 - y_pred))\n",
        "    return cost"
      ]
    },
    {
      "cell_type": "markdown",
      "metadata": {
        "id": "3DCWrHhBkrWM"
      },
      "source": [
        "prediction of logistic regression"
      ]
    },
    {
      "cell_type": "code",
      "execution_count": 7,
      "metadata": {
        "id": "ISUBCtWZkocL"
      },
      "outputs": [],
      "source": [
        "def predict(w, b, X):\n",
        "    z = np.dot(w.T, X) + b\n",
        "    y_pred = sigmoid(z)\n",
        "    return (y_pred > 0.5).astype(int)"
      ]
    },
    {
      "cell_type": "markdown",
      "metadata": {
        "id": "R7PQaou-k0BR"
      },
      "source": [
        "training algorithm"
      ]
    },
    {
      "cell_type": "code",
      "execution_count": 8,
      "metadata": {
        "id": "_sIbZtuak3X_"
      },
      "outputs": [],
      "source": [
        "def train(X, y, learning_rate, iterations=1000):\n",
        "    n_features = X.shape[0]\n",
        "    m = X.shape[1]\n",
        "    w = np.zeros((n_features, 1))\n",
        "    b = 0\n",
        "    cost_list = []\n",
        "\n",
        "    for i in range(iterations):\n",
        "        z = np.dot(w.T, X) + b\n",
        "        y_pred = sigmoid(z)\n",
        "        cost = compute_cost(y, y_pred)\n",
        "\n",
        "        dw = (1/m) * np.dot(X, (y_pred - y).T)\n",
        "        db = (1/m) * np.sum(y_pred - y)\n",
        "\n",
        "        w -= learning_rate * dw\n",
        "        b -= learning_rate * db\n",
        "\n",
        "        cost_list.append(cost)\n",
        "        if i % 100 == 0:\n",
        "            print(f\"Iteration {i}, Cost: {cost:.4f}\")\n",
        "\n",
        "    return w, b, cost_list"
      ]
    },
    {
      "cell_type": "markdown",
      "metadata": {
        "id": "bWCO9kZsk98J"
      },
      "source": [
        "run model"
      ]
    },
    {
      "cell_type": "code",
      "execution_count": 9,
      "metadata": {
        "colab": {
          "base_uri": "https://localhost:8080/"
        },
        "id": "30_tLofjk6lF",
        "outputId": "dbecb18b-a0f8-47a9-f1a4-5efe0a3ad02a"
      },
      "outputs": [
        {
          "name": "stdout",
          "output_type": "stream",
          "text": [
            "Iteration 0, Cost: 0.6931\n",
            "Iteration 100, Cost: 0.1073\n",
            "Iteration 200, Cost: 0.0650\n",
            "Iteration 300, Cost: 0.0467\n",
            "Iteration 400, Cost: 0.0364\n",
            "Iteration 500, Cost: 0.0298\n",
            "Iteration 600, Cost: 0.0253\n",
            "Iteration 700, Cost: 0.0219\n",
            "Iteration 800, Cost: 0.0193\n",
            "Iteration 900, Cost: 0.0173\n",
            "Iteration 1000, Cost: 0.0156\n",
            "Iteration 1100, Cost: 0.0142\n",
            "Iteration 1200, Cost: 0.0131\n",
            "Iteration 1300, Cost: 0.0121\n",
            "Iteration 1400, Cost: 0.0113\n",
            "Iteration 1500, Cost: 0.0105\n",
            "Iteration 1600, Cost: 0.0099\n",
            "Iteration 1700, Cost: 0.0093\n",
            "Iteration 1800, Cost: 0.0088\n",
            "Iteration 1900, Cost: 0.0084\n",
            "Iteration 2000, Cost: 0.0080\n",
            "Iteration 2100, Cost: 0.0076\n",
            "Iteration 2200, Cost: 0.0072\n",
            "Iteration 2300, Cost: 0.0069\n",
            "Iteration 2400, Cost: 0.0067\n",
            "Iteration 2500, Cost: 0.0064\n",
            "Iteration 2600, Cost: 0.0061\n",
            "Iteration 2700, Cost: 0.0059\n",
            "Iteration 2800, Cost: 0.0057\n",
            "Iteration 2900, Cost: 0.0055\n",
            "Iteration 3000, Cost: 0.0053\n",
            "Iteration 3100, Cost: 0.0052\n",
            "Iteration 3200, Cost: 0.0050\n",
            "Iteration 3300, Cost: 0.0049\n",
            "Iteration 3400, Cost: 0.0047\n",
            "Iteration 3500, Cost: 0.0046\n",
            "Iteration 3600, Cost: 0.0045\n",
            "Iteration 3700, Cost: 0.0043\n",
            "Iteration 3800, Cost: 0.0042\n",
            "Iteration 3900, Cost: 0.0041\n",
            "Iteration 4000, Cost: 0.0040\n",
            "Iteration 4100, Cost: 0.0039\n",
            "Iteration 4200, Cost: 0.0038\n",
            "Iteration 4300, Cost: 0.0037\n",
            "Iteration 4400, Cost: 0.0037\n",
            "Iteration 4500, Cost: 0.0036\n",
            "Iteration 4600, Cost: 0.0035\n",
            "Iteration 4700, Cost: 0.0034\n",
            "Iteration 4800, Cost: 0.0034\n",
            "Iteration 4900, Cost: 0.0033\n",
            "Iteration 5000, Cost: 0.0032\n",
            "Iteration 5100, Cost: 0.0032\n",
            "Iteration 5200, Cost: 0.0031\n",
            "Iteration 5300, Cost: 0.0030\n",
            "Iteration 5400, Cost: 0.0030\n",
            "Iteration 5500, Cost: 0.0029\n",
            "Iteration 5600, Cost: 0.0029\n",
            "Iteration 5700, Cost: 0.0028\n",
            "Iteration 5800, Cost: 0.0028\n",
            "Iteration 5900, Cost: 0.0027\n",
            "Iteration 6000, Cost: 0.0027\n",
            "Iteration 6100, Cost: 0.0026\n",
            "Iteration 6200, Cost: 0.0026\n",
            "Iteration 6300, Cost: 0.0026\n",
            "Iteration 6400, Cost: 0.0025\n",
            "Iteration 6500, Cost: 0.0025\n",
            "Iteration 6600, Cost: 0.0024\n",
            "Iteration 6700, Cost: 0.0024\n",
            "Iteration 6800, Cost: 0.0024\n",
            "Iteration 6900, Cost: 0.0023\n",
            "Iteration 7000, Cost: 0.0023\n",
            "Iteration 7100, Cost: 0.0023\n",
            "Iteration 7200, Cost: 0.0022\n",
            "Iteration 7300, Cost: 0.0022\n",
            "Iteration 7400, Cost: 0.0022\n",
            "Iteration 7500, Cost: 0.0021\n",
            "Iteration 7600, Cost: 0.0021\n",
            "Iteration 7700, Cost: 0.0021\n",
            "Iteration 7800, Cost: 0.0021\n",
            "Iteration 7900, Cost: 0.0020\n",
            "Iteration 8000, Cost: 0.0020\n",
            "Iteration 8100, Cost: 0.0020\n",
            "Iteration 8200, Cost: 0.0020\n",
            "Iteration 8300, Cost: 0.0019\n",
            "Iteration 8400, Cost: 0.0019\n",
            "Iteration 8500, Cost: 0.0019\n",
            "Iteration 8600, Cost: 0.0019\n",
            "Iteration 8700, Cost: 0.0019\n",
            "Iteration 8800, Cost: 0.0018\n",
            "Iteration 8900, Cost: 0.0018\n",
            "Iteration 9000, Cost: 0.0018\n",
            "Iteration 9100, Cost: 0.0018\n",
            "Iteration 9200, Cost: 0.0018\n",
            "Iteration 9300, Cost: 0.0017\n",
            "Iteration 9400, Cost: 0.0017\n",
            "Iteration 9500, Cost: 0.0017\n",
            "Iteration 9600, Cost: 0.0017\n",
            "Iteration 9700, Cost: 0.0017\n",
            "Iteration 9800, Cost: 0.0016\n",
            "Iteration 9900, Cost: 0.0016\n"
          ]
        }
      ],
      "source": [
        "w, b,cost = train(X_train, y_train, learning_rate=0.1, iterations=10000)"
      ]
    },
    {
      "cell_type": "code",
      "execution_count": 10,
      "metadata": {
        "colab": {
          "base_uri": "https://localhost:8080/",
          "height": 472
        },
        "id": "Hv2hXQp9lADz",
        "outputId": "a726ac78-0112-4724-df89-49bd160892d6"
      },
      "outputs": [
        {
          "data": {
            "image/png": "[encoded data removed]",
            "text/plain": [
              "<Figure size 640x480 with 1 Axes>"
            ]
          },
          "metadata": {},
          "output_type": "display_data"
        }
      ],
      "source": [
        "plt.plot(cost)\n",
        "plt.xlabel(\"Iterations\")\n",
        "plt.ylabel(\"Cost\")\n",
        "plt.title(\"Cost Reduction Over Iterations\")\n",
        "plt.grid(True)\n",
        "plt.show()"
      ]
    },
    {
      "cell_type": "code",
      "execution_count": 11,
      "metadata": {
        "id": "fzEo4BumlDw7"
      },
      "outputs": [],
      "source": [
        "def accuracy(y_true, y_pred):\n",
        "    correct = 0\n",
        "    total = y_true.shape[1]\n",
        "\n",
        "    for i in range(total):\n",
        "        if y_true[0][i] == y_pred[0][i]:\n",
        "            correct += 1\n",
        "\n",
        "    acc = (correct / total) * 100\n",
        "    return acc\n"
      ]
    },
    {
      "cell_type": "markdown",
      "metadata": {
        "id": "f9pf8hpYlMHG"
      },
      "source": [
        "training accuracy"
      ]
    },
    {
      "cell_type": "code",
      "execution_count": 12,
      "metadata": {
        "id": "Tp6mPPOylJYd"
      },
      "outputs": [],
      "source": [
        "y_pred_train = predict(w, b, X_train)"
      ]
    },
    {
      "cell_type": "markdown",
      "metadata": {
        "id": "bUoQ1Z9ZlOWJ"
      },
      "source": [
        "testing accuracy"
      ]
    },
    {
      "cell_type": "code",
      "execution_count": 13,
      "metadata": {
        "id": "GLXH2fbMlP0h"
      },
      "outputs": [],
      "source": [
        "y_pred_test = predict(w, b, X_test)"
      ]
    },
    {
      "cell_type": "code",
      "execution_count": 14,
      "metadata": {
        "colab": {
          "base_uri": "https://localhost:8080/"
        },
        "id": "wb1B8YFYlVY1",
        "outputId": "f15c575f-8356-4125-cb1d-155fd9d8b7d9"
      },
      "outputs": [
        {
          "name": "stdout",
          "output_type": "stream",
          "text": [
            "Train Accuracy: 100.00%\n",
            "Test Accuracy: 78.75%\n"
          ]
        }
      ],
      "source": [
        "print(f\"Train Accuracy: {accuracy(y_train, y_pred_train):.2f}%\")\n",
        "print(f\"Test Accuracy: {accuracy(y_test, y_pred_test):.2f}%\")"
      ]
    },
    {
      "cell_type": "markdown",
      "metadata": {
        "id": "atPgfkbTGSz7"
      },
      "source": [
        "cost function with regularization"
      ]
    },
    {
      "cell_type": "code",
      "execution_count": 15,
      "metadata": {
        "id": "52CGy_9JlXl7"
      },
      "outputs": [],
      "source": [
        "def compute_cost_regularization(y, y_pred, lamda, w):\n",
        "    m = y.shape[1]\n",
        "    cost = -(1/m) * np.sum(y * np.log(y_pred) + (1 - y) * np.log(1 - y_pred))\n",
        "    reg_term = (lamda / (2 * m)) * np.sum(w ** 2)\n",
        "    # Convert cost to a single number before returning it\n",
        "    total_cost = cost + reg_term\n",
        "    return total_cost"
      ]
    },
    {
      "cell_type": "markdown",
      "metadata": {
        "id": "Iky23vYHGvAG"
      },
      "source": [
        "compute gradient"
      ]
    },
    {
      "cell_type": "code",
      "execution_count": 16,
      "metadata": {
        "id": "yXevnqivGn8K"
      },
      "outputs": [],
      "source": [
        "def train_reg(X, y,lamda, learning_rate, iterations=1000):\n",
        "    n_features = X.shape[0]\n",
        "    m = X.shape[1]\n",
        "    w = np.zeros((n_features, 1))\n",
        "    b = 0\n",
        "    cost_list = []\n",
        "\n",
        "    for i in range(iterations):\n",
        "        z = np.dot(w.T, X) + b\n",
        "        y_pred = sigmoid(z)\n",
        "        # Correct the order of arguments when calling the function\n",
        "        cost = compute_cost_regularization(y, y_pred, lamda, w)\n",
        "\n",
        "        dw = (1/m) * np.dot(X, (y_pred - y).T) + (lamda / m) * w\n",
        "        db = (1/m) * np.sum(y_pred - y)\n",
        "\n",
        "        w -= learning_rate * dw\n",
        "        b -= learning_rate * db\n",
        "\n",
        "        cost_list.append(cost)\n",
        "        if i % 100 == 0:\n",
        "            print(f\"Iteration {i}, Cost: {cost:.4f}\")\n",
        "\n",
        "    return w, b, cost_list"
      ]
    },
    {
      "cell_type": "code",
      "execution_count": 17,
      "metadata": {
        "colab": {
          "base_uri": "https://localhost:8080/"
        },
        "id": "Byqks4mYHBTc",
        "outputId": "bf92965a-4fd4-4698-aa17-ab4b826616ee"
      },
      "outputs": [
        {
          "name": "stdout",
          "output_type": "stream",
          "text": [
            "Iteration 0, Cost: 0.6931\n",
            "Iteration 100, Cost: 0.3045\n",
            "Iteration 200, Cost: 0.3042\n",
            "Iteration 300, Cost: 0.3042\n",
            "Iteration 400, Cost: 0.3042\n",
            "Iteration 500, Cost: 0.3042\n",
            "Iteration 600, Cost: 0.3042\n",
            "Iteration 700, Cost: 0.3042\n",
            "Iteration 800, Cost: 0.3042\n",
            "Iteration 900, Cost: 0.3042\n",
            "Iteration 1000, Cost: 0.3042\n",
            "Iteration 1100, Cost: 0.3042\n",
            "Iteration 1200, Cost: 0.3042\n",
            "Iteration 1300, Cost: 0.3042\n",
            "Iteration 1400, Cost: 0.3042\n",
            "Iteration 1500, Cost: 0.3042\n",
            "Iteration 1600, Cost: 0.3042\n",
            "Iteration 1700, Cost: 0.3042\n",
            "Iteration 1800, Cost: 0.3042\n",
            "Iteration 1900, Cost: 0.3042\n",
            "Iteration 2000, Cost: 0.3042\n",
            "Iteration 2100, Cost: 0.3042\n",
            "Iteration 2200, Cost: 0.3042\n",
            "Iteration 2300, Cost: 0.3042\n",
            "Iteration 2400, Cost: 0.3042\n",
            "Iteration 2500, Cost: 0.3042\n",
            "Iteration 2600, Cost: 0.3042\n",
            "Iteration 2700, Cost: 0.3042\n",
            "Iteration 2800, Cost: 0.3042\n",
            "Iteration 2900, Cost: 0.3042\n",
            "Iteration 3000, Cost: 0.3042\n",
            "Iteration 3100, Cost: 0.3042\n",
            "Iteration 3200, Cost: 0.3042\n",
            "Iteration 3300, Cost: 0.3042\n",
            "Iteration 3400, Cost: 0.3042\n",
            "Iteration 3500, Cost: 0.3042\n",
            "Iteration 3600, Cost: 0.3042\n",
            "Iteration 3700, Cost: 0.3042\n",
            "Iteration 3800, Cost: 0.3042\n",
            "Iteration 3900, Cost: 0.3042\n",
            "Iteration 4000, Cost: 0.3042\n",
            "Iteration 4100, Cost: 0.3042\n",
            "Iteration 4200, Cost: 0.3042\n",
            "Iteration 4300, Cost: 0.3042\n",
            "Iteration 4400, Cost: 0.3042\n",
            "Iteration 4500, Cost: 0.3042\n",
            "Iteration 4600, Cost: 0.3042\n",
            "Iteration 4700, Cost: 0.3042\n",
            "Iteration 4800, Cost: 0.3042\n",
            "Iteration 4900, Cost: 0.3042\n",
            "Iteration 5000, Cost: 0.3042\n",
            "Iteration 5100, Cost: 0.3042\n",
            "Iteration 5200, Cost: 0.3042\n",
            "Iteration 5300, Cost: 0.3042\n",
            "Iteration 5400, Cost: 0.3042\n",
            "Iteration 5500, Cost: 0.3042\n",
            "Iteration 5600, Cost: 0.3042\n",
            "Iteration 5700, Cost: 0.3042\n",
            "Iteration 5800, Cost: 0.3042\n",
            "Iteration 5900, Cost: 0.3042\n",
            "Iteration 6000, Cost: 0.3042\n",
            "Iteration 6100, Cost: 0.3042\n",
            "Iteration 6200, Cost: 0.3042\n",
            "Iteration 6300, Cost: 0.3042\n",
            "Iteration 6400, Cost: 0.3042\n",
            "Iteration 6500, Cost: 0.3042\n",
            "Iteration 6600, Cost: 0.3042\n",
            "Iteration 6700, Cost: 0.3042\n",
            "Iteration 6800, Cost: 0.3042\n",
            "Iteration 6900, Cost: 0.3042\n",
            "Iteration 7000, Cost: 0.3042\n",
            "Iteration 7100, Cost: 0.3042\n",
            "Iteration 7200, Cost: 0.3042\n",
            "Iteration 7300, Cost: 0.3042\n",
            "Iteration 7400, Cost: 0.3042\n",
            "Iteration 7500, Cost: 0.3042\n",
            "Iteration 7600, Cost: 0.3042\n",
            "Iteration 7700, Cost: 0.3042\n",
            "Iteration 7800, Cost: 0.3042\n",
            "Iteration 7900, Cost: 0.3042\n",
            "Iteration 8000, Cost: 0.3042\n",
            "Iteration 8100, Cost: 0.3042\n",
            "Iteration 8200, Cost: 0.3042\n",
            "Iteration 8300, Cost: 0.3042\n",
            "Iteration 8400, Cost: 0.3042\n",
            "Iteration 8500, Cost: 0.3042\n",
            "Iteration 8600, Cost: 0.3042\n",
            "Iteration 8700, Cost: 0.3042\n",
            "Iteration 8800, Cost: 0.3042\n",
            "Iteration 8900, Cost: 0.3042\n",
            "Iteration 9000, Cost: 0.3042\n",
            "Iteration 9100, Cost: 0.3042\n",
            "Iteration 9200, Cost: 0.3042\n",
            "Iteration 9300, Cost: 0.3042\n",
            "Iteration 9400, Cost: 0.3042\n",
            "Iteration 9500, Cost: 0.3042\n",
            "Iteration 9600, Cost: 0.3042\n",
            "Iteration 9700, Cost: 0.3042\n",
            "Iteration 9800, Cost: 0.3042\n",
            "Iteration 9900, Cost: 0.3042\n"
          ]
        }
      ],
      "source": [
        "w_reg, b_reg,cost_reg = train_reg(X_train, y_train,lamda=50, learning_rate=0.1, iterations=10000)"
      ]
    },
    {
      "cell_type": "code",
      "execution_count": 18,
      "metadata": {
        "colab": {
          "base_uri": "https://localhost:8080/",
          "height": 472
        },
        "id": "3IbPUdx9HOCy",
        "outputId": "c43bd0bb-7b63-4b32-d0a0-209a4fdadfa2"
      },
      "outputs": [
        {
          "data": {
            "image/png": "[encoded data removed]",
            "text/plain": [
              "<Figure size 640x480 with 1 Axes>"
            ]
          },
          "metadata": {},
          "output_type": "display_data"
        }
      ],
      "source": [
        "plt.plot(cost_reg)\n",
        "plt.xlabel(\"Iterations\")\n",
        "plt.ylabel(\"Cost\")\n",
        "plt.title(\"Cost Reduction Over Iterations\")\n",
        "plt.grid(True)\n",
        "plt.show()"
      ]
    },
    {
      "cell_type": "code",
      "execution_count": 19,
      "metadata": {
        "id": "ozTklJSnWWeg"
      },
      "outputs": [],
      "source": [
        "def accuracy_reg(y_true, y_pred):\n",
        "    correct = 0\n",
        "    total = y_true.shape[1]\n",
        "\n",
        "    for i in range(total):\n",
        "        if y_true[0][i] == y_pred[0][i]:\n",
        "            correct += 1\n",
        "\n",
        "    acc = (correct / total) * 100\n",
        "    return acc\n"
      ]
    },
    {
      "cell_type": "code",
      "execution_count": 20,
      "metadata": {
        "id": "93ZvGhmQHnW_"
      },
      "outputs": [],
      "source": [
        "y_pred_train = predict(w_reg, b_reg, X_train)"
      ]
    },
    {
      "cell_type": "code",
      "execution_count": 21,
      "metadata": {
        "id": "kPPa_1GyHqep"
      },
      "outputs": [],
      "source": [
        "y_pred_test = predict(w_reg, b_reg, X_test)"
      ]
    },
    {
      "cell_type": "code",
      "execution_count": 22,
      "metadata": {
        "colab": {
          "base_uri": "https://localhost:8080/"
        },
        "id": "Ce37BDfNJJLK",
        "outputId": "f13ad140-4457-4409-baf0-5c2a1778542f"
      },
      "outputs": [
        {
          "name": "stdout",
          "output_type": "stream",
          "text": [
            "Train Accuracy: 97.81%\n",
            "Test Accuracy: 86.25%\n"
          ]
        }
      ],
      "source": [
        "print(f\"Train Accuracy: {accuracy_reg(y_train, y_pred_train):.2f}%\")\n",
        "print(f\"Test Accuracy: {accuracy_reg(y_test, y_pred_test):.2f}%\")"
      ]
    },
    {
      "cell_type": "code",
      "execution_count": 806,
      "metadata": {
        "id": "eBgtSFn7JMiW"
      },
      "outputs": [],
      "source": []
    }
  ],
  "metadata": {
    "colab": {
      "provenance": []
    },
    "kernelspec": {
      "display_name": "workenv",
      "language": "python",
      "name": "python3"
    },
    "language_info": {
      "codemirror_mode": {
        "name": "ipython",
        "version": 3
      },
      "file_extension": ".py",
      "mimetype": "text/x-python",
      "name": "python",
      "nbconvert_exporter": "python",
      "pygments_lexer": "ipython3",
      "version": "3.9.18"
    }
  },
  "nbformat": 4,
  "nbformat_minor": 0
}
